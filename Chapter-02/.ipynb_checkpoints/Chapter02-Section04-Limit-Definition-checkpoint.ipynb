{
 "cells": [
  {
   "cell_type": "markdown",
   "id": "e6404392-9811-4fe9-911a-55615d1e68c1",
   "metadata": {},
   "source": [
    "### Chapter 2, Section 4: The Precise Definition of a Limit\n",
    "\n",
    "- Notation complexity: $(x , a, \\delta)$ and $(f(x) , L, \\epsilon)$  \n",
    "- This section is from a branch of mathematics called \"Real Analysis\"  \n",
    "- Feel free to read this secion, but you won't be tested on any of it's contents. "
   ]
  },
  {
   "cell_type": "code",
   "execution_count": null,
   "id": "a09e78bd-f0d7-4f95-b658-043af38eb4f3",
   "metadata": {},
   "outputs": [],
   "source": []
  }
 ],
 "metadata": {
  "kernelspec": {
   "display_name": "Python 3 (ipykernel)",
   "language": "python",
   "name": "python3"
  },
  "language_info": {
   "codemirror_mode": {
    "name": "ipython",
    "version": 3
   },
   "file_extension": ".py",
   "mimetype": "text/x-python",
   "name": "python",
   "nbconvert_exporter": "python",
   "pygments_lexer": "ipython3",
   "version": "3.13.5"
  }
 },
 "nbformat": 4,
 "nbformat_minor": 5
}

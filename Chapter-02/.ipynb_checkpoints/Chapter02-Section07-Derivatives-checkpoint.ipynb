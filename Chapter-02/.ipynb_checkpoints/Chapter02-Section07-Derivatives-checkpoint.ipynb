{
 "cells": [
  {
   "cell_type": "markdown",
   "id": "e6404392-9811-4fe9-911a-55615d1e68c1",
   "metadata": {},
   "source": [
    "### Chapter 2, Section 7: Derivatives and Rate of Change\n",
    "- \n",
    "- Problems: Paper (3, 5, 7, 13, 15, 21, 23).\n",
    "- Problems: Jupyter (3)."
   ]
  },
  {
   "cell_type": "code",
   "execution_count": 19,
   "id": "1603b7f5-5ca1-4315-a7f7-28bdad865023",
   "metadata": {},
   "outputs": [],
   "source": [
    "import numpy as np\n",
    "import matplotlib.pyplot as plt"
   ]
  }
 ],
 "metadata": {
  "kernelspec": {
   "display_name": "Python 3 (ipykernel)",
   "language": "python",
   "name": "python3"
  },
  "language_info": {
   "codemirror_mode": {
    "name": "ipython",
    "version": 3
   },
   "file_extension": ".py",
   "mimetype": "text/x-python",
   "name": "python",
   "nbconvert_exporter": "python",
   "pygments_lexer": "ipython3",
   "version": "3.13.5"
  }
 },
 "nbformat": 4,
 "nbformat_minor": 5
}

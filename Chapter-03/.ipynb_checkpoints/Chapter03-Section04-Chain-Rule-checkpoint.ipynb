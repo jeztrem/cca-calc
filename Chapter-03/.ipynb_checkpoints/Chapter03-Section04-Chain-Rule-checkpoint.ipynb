{
 "cells": [
  {
   "cell_type": "markdown",
   "id": "e6404392-9811-4fe9-911a-55615d1e68c1",
   "metadata": {},
   "source": [
    "### Chapter 3, Section 4: The chain rule\n",
    "- This is one of the most useful tricks in engineering problems.\n",
    "- Problems: Paper (7, 9, 11, 13, 15, 17, 19, 25, 27, 29, 33, 41)."
   ]
  }
 ],
 "metadata": {
  "kernelspec": {
   "display_name": "Python 3 (ipykernel)",
   "language": "python",
   "name": "python3"
  },
  "language_info": {
   "codemirror_mode": {
    "name": "ipython",
    "version": 3
   },
   "file_extension": ".py",
   "mimetype": "text/x-python",
   "name": "python",
   "nbconvert_exporter": "python",
   "pygments_lexer": "ipython3",
   "version": "3.13.5"
  }
 },
 "nbformat": 4,
 "nbformat_minor": 5
}

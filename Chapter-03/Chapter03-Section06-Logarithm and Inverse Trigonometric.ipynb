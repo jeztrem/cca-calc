{
 "cells": [
  {
   "cell_type": "markdown",
   "id": "e6404392-9811-4fe9-911a-55615d1e68c1",
   "metadata": {},
   "source": [
    "### Chapter 3, Section 6: Derivatives of Logarithmic and Inverse Trigonometric Functions\n",
    "- Differentiation rules for exponents and bases are summarized on page 221\n",
    "- Problems: Paper (3, 5, 7, 9, 13, 21, 25, 45,51, 55, 63, 65, 69, 71).\n",
    "- Problems: Jupyter (41)."
   ]
  }
 ],
 "metadata": {
  "kernelspec": {
   "display_name": "Python 3 (ipykernel)",
   "language": "python",
   "name": "python3"
  },
  "language_info": {
   "codemirror_mode": {
    "name": "ipython",
    "version": 3
   },
   "file_extension": ".py",
   "mimetype": "text/x-python",
   "name": "python",
   "nbconvert_exporter": "python",
   "pygments_lexer": "ipython3",
   "version": "3.13.5"
  }
 },
 "nbformat": 4,
 "nbformat_minor": 5
}

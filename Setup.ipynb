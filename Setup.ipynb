{
 "cells": [
  {
   "cell_type": "markdown",
   "id": "304eec06",
   "metadata": {},
   "source": [
    "##### Install python\n",
    "- https://www.python.org/downloads/\n",
    "- python --version  (type from your command line to see if it installed correctly)\n",
    "##### Install VSCode\n",
    "- https://code.visualstudio.com/download\n",
    "##### Install git cli\n",
    "- https://git-scm.com/downloads\n",
    "- gh -- version (type from your command line to see if it is installed correctly)\n",
    "##### Create github account\n",
    "- https://www.github.com\n",
    "##### Import your first git repository\n",
    "- https://www.github.com/your-account\n",
    "- $+$ sign on upper right hand corner\n",
    "- import repository\n",
    "- https://github.com/cca-calc/Chapter01.git\n",
    "##### Clone this repository on you local computer\n",
    "- Code button, copy GitHub CLI \n",
    "- in your command shell go to the folder you want to put the files in.\n",
    "- paste the command in the shell\n",
    "##### Open VSCode\n",
    "- open the folder with the files\n",
    "- open one of the files\n",
    "- click run all\n",
    "- VSCode will ask you to choose a kernal: choose \"Install Python and Jupyter\"\n",
    "- Open a VS Code terminal and past the following line\n",
    "- pip install numpy sympy matplotlib\n",
    "- click run all\n"
   ]
  }
 ],
 "metadata": {
  "language_info": {
   "name": "python"
  }
 },
 "nbformat": 4,
 "nbformat_minor": 5
}

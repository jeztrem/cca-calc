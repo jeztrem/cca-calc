{
 "cells": [
  {
   "cell_type": "markdown",
   "id": "e6404392-9811-4fe9-911a-55615d1e68c1",
   "metadata": {},
   "source": [
    "### Chapter 4, Section 9: Antiderivatives\n",
    "- Problems: Paper (1, 3, 5, 9, 19, 29, 39, 47, 53)"
   ]
  }
 ],
 "metadata": {
  "kernelspec": {
   "display_name": "base",
   "language": "python",
   "name": "python3"
  },
  "language_info": {
   "codemirror_mode": {
    "name": "ipython",
    "version": 3
   },
   "file_extension": ".py",
   "mimetype": "text/x-python",
   "name": "python",
   "nbconvert_exporter": "python",
   "pygments_lexer": "ipython3",
   "version": "3.13.5"
  }
 },
 "nbformat": 4,
 "nbformat_minor": 5
}
